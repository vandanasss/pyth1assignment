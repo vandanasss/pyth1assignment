{
 "cells": [
  {
   "cell_type": "code",
   "execution_count": null,
   "id": "4eeb45bf",
   "metadata": {},
   "outputs": [],
   "source": [
    "1.  values='hello',-87.8,6\n",
    "expressions=*,-,+,/"
   ]
  },
  {
   "cell_type": "code",
   "execution_count": null,
   "id": "9b4b1d8f",
   "metadata": {},
   "outputs": [],
   "source": []
  },
  {
   "cell_type": "code",
   "execution_count": null,
   "id": "15e2fa39",
   "metadata": {},
   "outputs": [],
   "source": []
  },
  {
   "cell_type": "code",
   "execution_count": null,
   "id": "1b670665",
   "metadata": {},
   "outputs": [],
   "source": [
    "2.  \"Variables will store data,it will take memory space based on the type of value assigned to them.\"\n",
    "\"Creating variables in Python is simple,  we write the variable name on the left side of = and the value on the right side\"\n",
    "a=\"vandana\"\n",
    "a is a variable\n",
    "vandana is a string\n",
    "\"string is a value that can be alphaneumeric but enclosed with quotes\""
   ]
  },
  {
   "cell_type": "code",
   "execution_count": null,
   "id": "be8f2f16",
   "metadata": {},
   "outputs": [],
   "source": []
  },
  {
   "cell_type": "code",
   "execution_count": null,
   "id": "17406f0b",
   "metadata": {},
   "outputs": [],
   "source": [
    "3.  ##3 different data types:int , float, complex\n",
    "    \"integer is a positive and negative whole number.  ex:3,-9,8\"\n",
    "     \"float is a number with floating point. ex:5.9,6.7\"\n",
    "     \"complex numbers contain real part and imaginary part ex: \""
   ]
  },
  {
   "cell_type": "code",
   "execution_count": null,
   "id": "5c2a41c6",
   "metadata": {},
   "outputs": [],
   "source": []
  },
  {
   "cell_type": "code",
   "execution_count": null,
   "id": "cb6fdeff",
   "metadata": {},
   "outputs": [],
   "source": [
    "4.  #expression:\n",
    "#An expression is combination of operands and operators that will produce to give  some other value. \n",
    "#An expression is evaluated based on  the precedence of its operators.\n",
    "If we have more than one operator in on expression, based on the precedence  operation will be done.\n"
   ]
  },
  {
   "cell_type": "code",
   "execution_count": null,
   "id": "64f580ad",
   "metadata": {},
   "outputs": [],
   "source": []
  },
  {
   "cell_type": "code",
   "execution_count": null,
   "id": "3fec0edf",
   "metadata": {},
   "outputs": [],
   "source": [
    "5.   An expression evaluates to a single value. A statement does not. The statement is just like a command that a python interpreter executes like print."
   ]
  },
  {
   "cell_type": "code",
   "execution_count": null,
   "id": "27816f57",
   "metadata": {},
   "outputs": [],
   "source": []
  },
  {
   "cell_type": "code",
   "execution_count": null,
   "id": "9a5f445e",
   "metadata": {},
   "outputs": [],
   "source": []
  },
  {
   "cell_type": "code",
   "execution_count": 1,
   "id": "d76009ae",
   "metadata": {},
   "outputs": [
    {
     "name": "stdout",
     "output_type": "stream",
     "text": [
      "23\n"
     ]
    }
   ],
   "source": [
    "6.  bacon = 22 \n",
    "v=bacon + 1\n",
    "print(v)     #ans 23"
   ]
  },
  {
   "cell_type": "code",
   "execution_count": null,
   "id": "479242b8",
   "metadata": {},
   "outputs": [],
   "source": []
  },
  {
   "cell_type": "code",
   "execution_count": null,
   "id": "e74c048b",
   "metadata": {},
   "outputs": [],
   "source": []
  },
  {
   "cell_type": "code",
   "execution_count": 2,
   "id": "df4e3aac",
   "metadata": {},
   "outputs": [
    {
     "name": "stdout",
     "output_type": "stream",
     "text": [
      "spamspamspam\n"
     ]
    }
   ],
   "source": [
    "print('spam'+'spamspam')"
   ]
  },
  {
   "cell_type": "code",
   "execution_count": 3,
   "id": "ef9face5",
   "metadata": {},
   "outputs": [
    {
     "name": "stdout",
     "output_type": "stream",
     "text": [
      "spamspamspam\n"
     ]
    }
   ],
   "source": [
    "print('spam'*3)"
   ]
  },
  {
   "cell_type": "code",
   "execution_count": null,
   "id": "a2a85fb6",
   "metadata": {},
   "outputs": [],
   "source": [
    "  7.  ans both will give same"
   ]
  },
  {
   "cell_type": "code",
   "execution_count": null,
   "id": "c9485f73",
   "metadata": {},
   "outputs": [],
   "source": []
  },
  {
   "cell_type": "code",
   "execution_count": null,
   "id": "c351ee48",
   "metadata": {},
   "outputs": [],
   "source": []
  },
  {
   "cell_type": "code",
   "execution_count": null,
   "id": "4441c2f6",
   "metadata": {},
   "outputs": [],
   "source": [
    "8.  Because we can’t start giving variable an integer. Eg. 1000, 10eggs and 1e are invalid. But e1000, eggs1000 are valid.\n"
   ]
  },
  {
   "cell_type": "code",
   "execution_count": null,
   "id": "e31aabcd",
   "metadata": {},
   "outputs": [],
   "source": []
  },
  {
   "cell_type": "code",
   "execution_count": null,
   "id": "ae2fb7b3",
   "metadata": {},
   "outputs": [],
   "source": [
    "9.\n",
    "float()=float\n",
    "int()=integer\n",
    "str()=string\n"
   ]
  },
  {
   "cell_type": "code",
   "execution_count": null,
   "id": "21e50ac2",
   "metadata": {},
   "outputs": [],
   "source": []
  },
  {
   "cell_type": "code",
   "execution_count": null,
   "id": "32d7570c",
   "metadata": {},
   "outputs": [],
   "source": [
    "10.\n",
    "#because 99 is an integer it cannot be concatenated with strings, if we have to concatenate it we need to change the type of integer as string\n",
    "\n"
   ]
  }
 ],
 "metadata": {
  "kernelspec": {
   "display_name": "Python 3 (ipykernel)",
   "language": "python",
   "name": "python3"
  },
  "language_info": {
   "codemirror_mode": {
    "name": "ipython",
    "version": 3
   },
   "file_extension": ".py",
   "mimetype": "text/x-python",
   "name": "python",
   "nbconvert_exporter": "python",
   "pygments_lexer": "ipython3",
   "version": "3.9.12"
  }
 },
 "nbformat": 4,
 "nbformat_minor": 5
}
